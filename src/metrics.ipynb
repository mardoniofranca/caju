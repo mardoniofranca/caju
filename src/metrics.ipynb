{
 "cells": [
  {
   "cell_type": "code",
   "execution_count": 1,
   "id": "3bd4605b",
   "metadata": {},
   "outputs": [],
   "source": [
    "import pandas as pd\n",
    "import math\n",
    "import numpy as np\n",
    "from random import randint"
   ]
  },
  {
   "cell_type": "code",
   "execution_count": 2,
   "id": "eb76afe1",
   "metadata": {},
   "outputs": [],
   "source": [
    "def passeio(l):\n",
    "    index=[]; pos=[]; sorts =[]; d=[]; d2=[]; v=[];\n",
    "    posicao=0;n=0;soma_quad=0; \n",
    "    for i in range(0,l):\n",
    "        sort = (randint(0,1))\n",
    "        n    = n + 1\n",
    "        if sort == 1 :\n",
    "            posicao  = posicao + 1 \n",
    "        else:\n",
    "            posicao  = posicao - 1 \n",
    "        deslocamento_medio = (1/n) * (posicao)\n",
    "        posicao_quad = posicao ** 2\n",
    "        soma_quad    = soma_quad + posicao_quad\n",
    "        deslocamento_quad_medio = (1/n) * (soma_quad)\n",
    "        variancia    = deslocamento_quad_medio - (deslocamento_medio**2)\n",
    "        \n",
    "        index.append(i+1)\n",
    "        sorts.append(sort)\n",
    "        pos.append(posicao)\n",
    "        d.append(deslocamento_medio)\n",
    "        d2.append(deslocamento_quad_medio)\n",
    "        v.append(variancia)    \n",
    "    \n",
    "    return index,pos,sorts,d,d2,v   "
   ]
  },
  {
   "cell_type": "code",
   "execution_count": 3,
   "id": "77cb7825",
   "metadata": {},
   "outputs": [
    {
     "name": "stdout",
     "output_type": "stream",
     "text": [
      "1\n"
     ]
    },
    {
     "name": "stderr",
     "output_type": "stream",
     "text": [
      "C:\\Users\\Mardonio\\anaconda3\\lib\\site-packages\\pandas\\core\\arraylike.py:397: RuntimeWarning: divide by zero encountered in log\n",
      "  result = getattr(ufunc, method)(*inputs, **kwargs)\n"
     ]
    },
    {
     "name": "stdout",
     "output_type": "stream",
     "text": [
      "2\n"
     ]
    },
    {
     "name": "stderr",
     "output_type": "stream",
     "text": [
      "C:\\Users\\Mardonio\\anaconda3\\lib\\site-packages\\pandas\\core\\arraylike.py:397: RuntimeWarning: divide by zero encountered in log\n",
      "  result = getattr(ufunc, method)(*inputs, **kwargs)\n"
     ]
    },
    {
     "name": "stdout",
     "output_type": "stream",
     "text": [
      "3\n"
     ]
    },
    {
     "name": "stderr",
     "output_type": "stream",
     "text": [
      "C:\\Users\\Mardonio\\anaconda3\\lib\\site-packages\\pandas\\core\\arraylike.py:397: RuntimeWarning: divide by zero encountered in log\n",
      "  result = getattr(ufunc, method)(*inputs, **kwargs)\n"
     ]
    },
    {
     "name": "stdout",
     "output_type": "stream",
     "text": [
      "4\n"
     ]
    },
    {
     "name": "stderr",
     "output_type": "stream",
     "text": [
      "C:\\Users\\Mardonio\\anaconda3\\lib\\site-packages\\pandas\\core\\arraylike.py:397: RuntimeWarning: divide by zero encountered in log\n",
      "  result = getattr(ufunc, method)(*inputs, **kwargs)\n"
     ]
    },
    {
     "name": "stdout",
     "output_type": "stream",
     "text": [
      "5\n"
     ]
    },
    {
     "name": "stderr",
     "output_type": "stream",
     "text": [
      "C:\\Users\\Mardonio\\anaconda3\\lib\\site-packages\\pandas\\core\\arraylike.py:397: RuntimeWarning: divide by zero encountered in log\n",
      "  result = getattr(ufunc, method)(*inputs, **kwargs)\n"
     ]
    }
   ],
   "source": [
    "df = pd.DataFrame()\n",
    "for i in range(1,6):\n",
    "    print(i)\n",
    "    index,pos,sorts,d,d2,v = passeio(10**6)\n",
    "    df['index_' + str(i)]          = index\n",
    "    df['sort_' + str(i)]           = sorts \n",
    "    df['posicao_' + str(i)]        = pos \n",
    "    df['deslocamento_' + str(i)]   = d\n",
    "    df['desl_quadruado_' + str(i)] = d2\n",
    "    df['variancia_' + str(i)]      = v\n",
    "    try:\n",
    "        df['log_index_' + str(i)]      = np.log(df['index_'     + str(i)])\n",
    "        df['log_variancia_' + str(i)]  = np.log(df['variancia_' + str(i)])\n",
    "    except:\n",
    "        df['log_index_' + str(i)]      = 0\n",
    "        df['log_variancia_' + str(i)]  = 0   "
   ]
  },
  {
   "cell_type": "code",
   "execution_count": 4,
   "id": "0bcb78da",
   "metadata": {},
   "outputs": [
    {
     "data": {
      "text/html": [
       "<div>\n",
       "<style scoped>\n",
       "    .dataframe tbody tr th:only-of-type {\n",
       "        vertical-align: middle;\n",
       "    }\n",
       "\n",
       "    .dataframe tbody tr th {\n",
       "        vertical-align: top;\n",
       "    }\n",
       "\n",
       "    .dataframe thead th {\n",
       "        text-align: right;\n",
       "    }\n",
       "</style>\n",
       "<table border=\"1\" class=\"dataframe\">\n",
       "  <thead>\n",
       "    <tr style=\"text-align: right;\">\n",
       "      <th></th>\n",
       "      <th>index_1</th>\n",
       "      <th>sort_1</th>\n",
       "      <th>posicao_1</th>\n",
       "      <th>deslocamento_1</th>\n",
       "      <th>desl_quadruado_1</th>\n",
       "      <th>variancia_1</th>\n",
       "      <th>log_index_1</th>\n",
       "      <th>log_variancia_1</th>\n",
       "      <th>index_2</th>\n",
       "      <th>sort_2</th>\n",
       "      <th>...</th>\n",
       "      <th>log_index_4</th>\n",
       "      <th>log_variancia_4</th>\n",
       "      <th>index_5</th>\n",
       "      <th>sort_5</th>\n",
       "      <th>posicao_5</th>\n",
       "      <th>deslocamento_5</th>\n",
       "      <th>desl_quadruado_5</th>\n",
       "      <th>variancia_5</th>\n",
       "      <th>log_index_5</th>\n",
       "      <th>log_variancia_5</th>\n",
       "    </tr>\n",
       "  </thead>\n",
       "  <tbody>\n",
       "    <tr>\n",
       "      <th>0</th>\n",
       "      <td>1</td>\n",
       "      <td>1</td>\n",
       "      <td>1</td>\n",
       "      <td>1.000000</td>\n",
       "      <td>1.000000</td>\n",
       "      <td>0.000000</td>\n",
       "      <td>0.000000</td>\n",
       "      <td>-inf</td>\n",
       "      <td>1</td>\n",
       "      <td>1</td>\n",
       "      <td>...</td>\n",
       "      <td>0.000000</td>\n",
       "      <td>-inf</td>\n",
       "      <td>1</td>\n",
       "      <td>0</td>\n",
       "      <td>-1</td>\n",
       "      <td>-1.000000</td>\n",
       "      <td>1.0</td>\n",
       "      <td>0.000000</td>\n",
       "      <td>0.000000</td>\n",
       "      <td>-inf</td>\n",
       "    </tr>\n",
       "    <tr>\n",
       "      <th>1</th>\n",
       "      <td>2</td>\n",
       "      <td>0</td>\n",
       "      <td>0</td>\n",
       "      <td>0.000000</td>\n",
       "      <td>0.500000</td>\n",
       "      <td>0.500000</td>\n",
       "      <td>0.693147</td>\n",
       "      <td>-0.693147</td>\n",
       "      <td>2</td>\n",
       "      <td>0</td>\n",
       "      <td>...</td>\n",
       "      <td>0.693147</td>\n",
       "      <td>0.405465</td>\n",
       "      <td>2</td>\n",
       "      <td>0</td>\n",
       "      <td>-2</td>\n",
       "      <td>-1.000000</td>\n",
       "      <td>2.5</td>\n",
       "      <td>1.500000</td>\n",
       "      <td>0.693147</td>\n",
       "      <td>0.405465</td>\n",
       "    </tr>\n",
       "    <tr>\n",
       "      <th>2</th>\n",
       "      <td>3</td>\n",
       "      <td>0</td>\n",
       "      <td>-1</td>\n",
       "      <td>-0.333333</td>\n",
       "      <td>0.666667</td>\n",
       "      <td>0.555556</td>\n",
       "      <td>1.098612</td>\n",
       "      <td>-0.587787</td>\n",
       "      <td>3</td>\n",
       "      <td>0</td>\n",
       "      <td>...</td>\n",
       "      <td>1.098612</td>\n",
       "      <td>0.635989</td>\n",
       "      <td>3</td>\n",
       "      <td>1</td>\n",
       "      <td>-1</td>\n",
       "      <td>-0.333333</td>\n",
       "      <td>2.0</td>\n",
       "      <td>1.888889</td>\n",
       "      <td>1.098612</td>\n",
       "      <td>0.635989</td>\n",
       "    </tr>\n",
       "    <tr>\n",
       "      <th>3</th>\n",
       "      <td>4</td>\n",
       "      <td>0</td>\n",
       "      <td>-2</td>\n",
       "      <td>-0.500000</td>\n",
       "      <td>1.500000</td>\n",
       "      <td>1.250000</td>\n",
       "      <td>1.386294</td>\n",
       "      <td>0.223144</td>\n",
       "      <td>4</td>\n",
       "      <td>0</td>\n",
       "      <td>...</td>\n",
       "      <td>1.386294</td>\n",
       "      <td>0.405465</td>\n",
       "      <td>4</td>\n",
       "      <td>0</td>\n",
       "      <td>-2</td>\n",
       "      <td>-0.500000</td>\n",
       "      <td>2.5</td>\n",
       "      <td>2.250000</td>\n",
       "      <td>1.386294</td>\n",
       "      <td>0.810930</td>\n",
       "    </tr>\n",
       "    <tr>\n",
       "      <th>4</th>\n",
       "      <td>5</td>\n",
       "      <td>0</td>\n",
       "      <td>-3</td>\n",
       "      <td>-0.600000</td>\n",
       "      <td>3.000000</td>\n",
       "      <td>2.640000</td>\n",
       "      <td>1.609438</td>\n",
       "      <td>0.970779</td>\n",
       "      <td>5</td>\n",
       "      <td>1</td>\n",
       "      <td>...</td>\n",
       "      <td>1.609438</td>\n",
       "      <td>0.307485</td>\n",
       "      <td>5</td>\n",
       "      <td>0</td>\n",
       "      <td>-3</td>\n",
       "      <td>-0.600000</td>\n",
       "      <td>3.8</td>\n",
       "      <td>3.440000</td>\n",
       "      <td>1.609438</td>\n",
       "      <td>1.235471</td>\n",
       "    </tr>\n",
       "  </tbody>\n",
       "</table>\n",
       "<p>5 rows × 40 columns</p>\n",
       "</div>"
      ],
      "text/plain": [
       "   index_1  sort_1  posicao_1  deslocamento_1  desl_quadruado_1  variancia_1  \\\n",
       "0        1       1          1        1.000000          1.000000     0.000000   \n",
       "1        2       0          0        0.000000          0.500000     0.500000   \n",
       "2        3       0         -1       -0.333333          0.666667     0.555556   \n",
       "3        4       0         -2       -0.500000          1.500000     1.250000   \n",
       "4        5       0         -3       -0.600000          3.000000     2.640000   \n",
       "\n",
       "   log_index_1  log_variancia_1  index_2  sort_2  ...  log_index_4  \\\n",
       "0     0.000000             -inf        1       1  ...     0.000000   \n",
       "1     0.693147        -0.693147        2       0  ...     0.693147   \n",
       "2     1.098612        -0.587787        3       0  ...     1.098612   \n",
       "3     1.386294         0.223144        4       0  ...     1.386294   \n",
       "4     1.609438         0.970779        5       1  ...     1.609438   \n",
       "\n",
       "   log_variancia_4  index_5  sort_5  posicao_5  deslocamento_5  \\\n",
       "0             -inf        1       0         -1       -1.000000   \n",
       "1         0.405465        2       0         -2       -1.000000   \n",
       "2         0.635989        3       1         -1       -0.333333   \n",
       "3         0.405465        4       0         -2       -0.500000   \n",
       "4         0.307485        5       0         -3       -0.600000   \n",
       "\n",
       "   desl_quadruado_5  variancia_5  log_index_5  log_variancia_5  \n",
       "0               1.0     0.000000     0.000000             -inf  \n",
       "1               2.5     1.500000     0.693147         0.405465  \n",
       "2               2.0     1.888889     1.098612         0.635989  \n",
       "3               2.5     2.250000     1.386294         0.810930  \n",
       "4               3.8     3.440000     1.609438         1.235471  \n",
       "\n",
       "[5 rows x 40 columns]"
      ]
     },
     "execution_count": 4,
     "metadata": {},
     "output_type": "execute_result"
    }
   ],
   "source": [
    "df.head(5)"
   ]
  },
  {
   "cell_type": "code",
   "execution_count": 52,
   "id": "a92b3fe5",
   "metadata": {},
   "outputs": [
    {
     "data": {
      "text/html": [
       "<div>\n",
       "<style scoped>\n",
       "    .dataframe tbody tr th:only-of-type {\n",
       "        vertical-align: middle;\n",
       "    }\n",
       "\n",
       "    .dataframe tbody tr th {\n",
       "        vertical-align: top;\n",
       "    }\n",
       "\n",
       "    .dataframe thead th {\n",
       "        text-align: right;\n",
       "    }\n",
       "</style>\n",
       "<table border=\"1\" class=\"dataframe\">\n",
       "  <thead>\n",
       "    <tr style=\"text-align: right;\">\n",
       "      <th></th>\n",
       "      <th>index_1</th>\n",
       "      <th>sort_1</th>\n",
       "      <th>posicao_1</th>\n",
       "      <th>deslocamento_1</th>\n",
       "      <th>desl_quadruado_1</th>\n",
       "      <th>variancia_1</th>\n",
       "      <th>log_index_1</th>\n",
       "      <th>log_variancia_1</th>\n",
       "      <th>index_2</th>\n",
       "      <th>sort_2</th>\n",
       "      <th>...</th>\n",
       "      <th>log_index_4</th>\n",
       "      <th>log_variancia_4</th>\n",
       "      <th>index_5</th>\n",
       "      <th>sort_5</th>\n",
       "      <th>posicao_5</th>\n",
       "      <th>deslocamento_5</th>\n",
       "      <th>desl_quadruado_5</th>\n",
       "      <th>variancia_5</th>\n",
       "      <th>log_index_5</th>\n",
       "      <th>log_variancia_5</th>\n",
       "    </tr>\n",
       "  </thead>\n",
       "  <tbody>\n",
       "    <tr>\n",
       "      <th>999995</th>\n",
       "      <td>999996</td>\n",
       "      <td>0</td>\n",
       "      <td>286</td>\n",
       "      <td>0.000286</td>\n",
       "      <td>559947.070774</td>\n",
       "      <td>559947.070774</td>\n",
       "      <td>13.815507</td>\n",
       "      <td>13.235598</td>\n",
       "      <td>999996</td>\n",
       "      <td>0</td>\n",
       "      <td>...</td>\n",
       "      <td>13.815507</td>\n",
       "      <td>14.517010</td>\n",
       "      <td>999996</td>\n",
       "      <td>1</td>\n",
       "      <td>554</td>\n",
       "      <td>0.000554</td>\n",
       "      <td>175589.747669</td>\n",
       "      <td>175589.747669</td>\n",
       "      <td>13.815507</td>\n",
       "      <td>12.075906</td>\n",
       "    </tr>\n",
       "    <tr>\n",
       "      <th>999996</th>\n",
       "      <td>999997</td>\n",
       "      <td>1</td>\n",
       "      <td>287</td>\n",
       "      <td>0.000287</td>\n",
       "      <td>559946.593195</td>\n",
       "      <td>559946.593195</td>\n",
       "      <td>13.815508</td>\n",
       "      <td>13.235597</td>\n",
       "      <td>999997</td>\n",
       "      <td>0</td>\n",
       "      <td>...</td>\n",
       "      <td>13.815508</td>\n",
       "      <td>14.517012</td>\n",
       "      <td>999997</td>\n",
       "      <td>0</td>\n",
       "      <td>553</td>\n",
       "      <td>0.000553</td>\n",
       "      <td>175589.877889</td>\n",
       "      <td>175589.877888</td>\n",
       "      <td>13.815508</td>\n",
       "      <td>12.075906</td>\n",
       "    </tr>\n",
       "    <tr>\n",
       "      <th>999997</th>\n",
       "      <td>999998</td>\n",
       "      <td>1</td>\n",
       "      <td>288</td>\n",
       "      <td>0.000288</td>\n",
       "      <td>559946.116191</td>\n",
       "      <td>559946.116191</td>\n",
       "      <td>13.815509</td>\n",
       "      <td>13.235596</td>\n",
       "      <td>999998</td>\n",
       "      <td>1</td>\n",
       "      <td>...</td>\n",
       "      <td>13.815509</td>\n",
       "      <td>14.517013</td>\n",
       "      <td>999998</td>\n",
       "      <td>0</td>\n",
       "      <td>552</td>\n",
       "      <td>0.000552</td>\n",
       "      <td>175590.007003</td>\n",
       "      <td>175590.007003</td>\n",
       "      <td>13.815509</td>\n",
       "      <td>12.075907</td>\n",
       "    </tr>\n",
       "    <tr>\n",
       "      <th>999998</th>\n",
       "      <td>999999</td>\n",
       "      <td>1</td>\n",
       "      <td>289</td>\n",
       "      <td>0.000289</td>\n",
       "      <td>559945.639766</td>\n",
       "      <td>559945.639766</td>\n",
       "      <td>13.815510</td>\n",
       "      <td>13.235595</td>\n",
       "      <td>999999</td>\n",
       "      <td>0</td>\n",
       "      <td>...</td>\n",
       "      <td>13.815510</td>\n",
       "      <td>14.517015</td>\n",
       "      <td>999999</td>\n",
       "      <td>0</td>\n",
       "      <td>551</td>\n",
       "      <td>0.000551</td>\n",
       "      <td>175590.135014</td>\n",
       "      <td>175590.135014</td>\n",
       "      <td>13.815510</td>\n",
       "      <td>12.075908</td>\n",
       "    </tr>\n",
       "    <tr>\n",
       "      <th>999999</th>\n",
       "      <td>1000000</td>\n",
       "      <td>1</td>\n",
       "      <td>290</td>\n",
       "      <td>0.000290</td>\n",
       "      <td>559945.163920</td>\n",
       "      <td>559945.163920</td>\n",
       "      <td>13.815511</td>\n",
       "      <td>13.235594</td>\n",
       "      <td>1000000</td>\n",
       "      <td>0</td>\n",
       "      <td>...</td>\n",
       "      <td>13.815511</td>\n",
       "      <td>14.517016</td>\n",
       "      <td>1000000</td>\n",
       "      <td>0</td>\n",
       "      <td>550</td>\n",
       "      <td>0.000550</td>\n",
       "      <td>175590.261924</td>\n",
       "      <td>175590.261924</td>\n",
       "      <td>13.815511</td>\n",
       "      <td>12.075909</td>\n",
       "    </tr>\n",
       "  </tbody>\n",
       "</table>\n",
       "<p>5 rows × 40 columns</p>\n",
       "</div>"
      ],
      "text/plain": [
       "        index_1  sort_1  posicao_1  deslocamento_1  desl_quadruado_1  \\\n",
       "999995   999996       0        286        0.000286     559947.070774   \n",
       "999996   999997       1        287        0.000287     559946.593195   \n",
       "999997   999998       1        288        0.000288     559946.116191   \n",
       "999998   999999       1        289        0.000289     559945.639766   \n",
       "999999  1000000       1        290        0.000290     559945.163920   \n",
       "\n",
       "          variancia_1  log_index_1  log_variancia_1  index_2  sort_2  ...  \\\n",
       "999995  559947.070774    13.815507        13.235598   999996       0  ...   \n",
       "999996  559946.593195    13.815508        13.235597   999997       0  ...   \n",
       "999997  559946.116191    13.815509        13.235596   999998       1  ...   \n",
       "999998  559945.639766    13.815510        13.235595   999999       0  ...   \n",
       "999999  559945.163920    13.815511        13.235594  1000000       0  ...   \n",
       "\n",
       "        log_index_4  log_variancia_4  index_5  sort_5  posicao_5  \\\n",
       "999995    13.815507        14.517010   999996       1        554   \n",
       "999996    13.815508        14.517012   999997       0        553   \n",
       "999997    13.815509        14.517013   999998       0        552   \n",
       "999998    13.815510        14.517015   999999       0        551   \n",
       "999999    13.815511        14.517016  1000000       0        550   \n",
       "\n",
       "        deslocamento_5  desl_quadruado_5    variancia_5  log_index_5  \\\n",
       "999995        0.000554     175589.747669  175589.747669    13.815507   \n",
       "999996        0.000553     175589.877889  175589.877888    13.815508   \n",
       "999997        0.000552     175590.007003  175590.007003    13.815509   \n",
       "999998        0.000551     175590.135014  175590.135014    13.815510   \n",
       "999999        0.000550     175590.261924  175590.261924    13.815511   \n",
       "\n",
       "        log_variancia_5  \n",
       "999995        12.075906  \n",
       "999996        12.075906  \n",
       "999997        12.075907  \n",
       "999998        12.075908  \n",
       "999999        12.075909  \n",
       "\n",
       "[5 rows x 40 columns]"
      ]
     },
     "execution_count": 52,
     "metadata": {},
     "output_type": "execute_result"
    }
   ],
   "source": [
    "df.tail(5)"
   ]
  },
  {
   "cell_type": "code",
   "execution_count": 5,
   "id": "f6cabae4",
   "metadata": {},
   "outputs": [],
   "source": [
    "import matplotlib.pyplot as plt\n",
    "plt.rcParams[\"figure.figsize\"] = (20,3)"
   ]
  },
  {
   "cell_type": "code",
   "execution_count": 54,
   "id": "98c716f3",
   "metadata": {},
   "outputs": [
    {
     "data": {
      "text/plain": [
       "Text(0, 0.5, 'Número de interacoes')"
      ]
     },
     "execution_count": 54,
     "metadata": {},
     "output_type": "execute_result"
    },
    {
     "data": {
      "image/png": "[encoded data removed]",
      "text/plain": [
       "<Figure size 1440x216 with 1 Axes>"
      ]
     },
     "metadata": {
      "needs_background": "light"
     },
     "output_type": "display_data"
    }
   ],
   "source": [
    "plt.rcParams[\"figure.figsize\"] = (20,3)\n",
    "ax1 = df.plot(kind='scatter', x='index_1', y='posicao_1', color='r')    \n",
    "ax2 = df.plot(kind='scatter', x='index_1', y='posicao_2', color='g', ax=ax1)    \n",
    "ax3 = df.plot(kind='scatter', x='index_1', y='posicao_3', color='b', ax=ax1)\n",
    "ax4 = df.plot(kind='scatter', x='index_1', y='posicao_4', color='c', ax=ax1)\n",
    "ax5 = df.plot(kind='scatter', x='index_1', y='posicao_5', color='y', ax=ax1)\n",
    "ax3.set_xlabel(\"Caminhos\")\n",
    "ax3.set_ylabel(\"Número de interacoes\")"
   ]
  },
  {
   "cell_type": "code",
   "execution_count": 44,
   "id": "4187adcd",
   "metadata": {},
   "outputs": [
    {
     "data": {
      "text/plain": [
       "Text(0.5, 0, 'Descolamento Médio')"
      ]
     },
     "execution_count": 44,
     "metadata": {},
     "output_type": "execute_result"
    },
    {
     "data": {
      "image/png": "[encoded data removed]",
      "text/plain": [
       "<Figure size 1440x216 with 1 Axes>"
      ]
     },
     "metadata": {
      "needs_background": "light"
     },
     "output_type": "display_data"
    }
   ],
   "source": [
    "plt.rcParams[\"figure.figsize\"] = (20,3)\n",
    "ax1 = df.plot(kind='scatter', x='index_1', y='deslocamento_1', color='r')    \n",
    "ax2 = df.plot(kind='scatter', x='index_1', y='deslocamento_2', color='g', ax=ax1)    \n",
    "ax3 = df.plot(kind='scatter', x='index_1', y='deslocamento_3', color='b', ax=ax1)\n",
    "ax4 = df.plot(kind='scatter', x='index_1', y='deslocamento_4', color='c', ax=ax1)\n",
    "ax5 = df.plot(kind='scatter', x='index_1', y='deslocamento_5', color='y', ax=ax1)\n",
    "ax3.set_ylabel(\"Número de interacoes\")\n",
    "ax3.set_xlabel(\"Descolamento Médio\")"
   ]
  },
  {
   "cell_type": "code",
   "execution_count": 56,
   "id": "a0846553",
   "metadata": {},
   "outputs": [
    {
     "data": {
      "text/plain": [
       "Text(0.5, 0, 'Log Variancia')"
      ]
     },
     "execution_count": 56,
     "metadata": {},
     "output_type": "execute_result"
    },
    {
     "data": {
      "image/png": "[encoded data removed]",
      "text/plain": [
       "<Figure size 1440x216 with 1 Axes>"
      ]
     },
     "metadata": {
      "needs_background": "light"
     },
     "output_type": "display_data"
    }
   ],
   "source": [
    "plt.rcParams[\"figure.figsize\"] = (20,3)\n",
    "ax1 = df.plot(kind='scatter', x='log_index_1', y='log_variancia_1', color='r')    \n",
    "ax2 = df.plot(kind='scatter', x='log_index_1', y='log_variancia_2', color='g', ax=ax1)    \n",
    "ax3 = df.plot(kind='scatter', x='log_index_1', y='log_variancia_3', color='b', ax=ax1)\n",
    "ax4 = df.plot(kind='scatter', x='log_index_1', y='log_variancia_4', color='c', ax=ax1)\n",
    "ax5 = df.plot(kind='scatter', x='log_index_1', y='log_variancia_5', color='y', ax=ax1)\n",
    "ax3.set_ylabel(\"Log Número de interacoes\")\n",
    "ax3.set_xlabel(\"Log Variancia\")"
   ]
  },
  {
   "cell_type": "code",
   "execution_count": 8,
   "id": "d4f58aa9",
   "metadata": {},
   "outputs": [
    {
     "data": {
      "image/png": "[encoded data removed]",
      "text/plain": [
       "<Figure size 720x216 with 1 Axes>"
      ]
     },
     "metadata": {
      "needs_background": "light"
     },
     "output_type": "display_data"
    }
   ],
   "source": [
    "plt.rcParams[\"figure.figsize\"] = (10,3)\n",
    "ax1 = df.plot(kind='scatter', x='index_1', y='variancia_1', color='g')    \n",
    "#ax3.set_ylabel(\"Número de interacoes\")\n",
    "#ax3.set_xlabel(\"Variancia\")"
   ]
  },
  {
   "cell_type": "code",
   "execution_count": null,
   "id": "d85b756d",
   "metadata": {},
   "outputs": [],
   "source": []
  },
  {
   "cell_type": "code",
   "execution_count": 55,
   "id": "6621ff14",
   "metadata": {},
   "outputs": [
    {
     "data": {
      "text/plain": [
       "Text(0.5, 0, 'Variancia')"
      ]
     },
     "execution_count": 55,
     "metadata": {},
     "output_type": "execute_result"
    },
    {
     "data": {
      "image/png": "[encoded data removed]",
      "text/plain": [
       "<Figure size 1440x216 with 1 Axes>"
      ]
     },
     "metadata": {
      "needs_background": "light"
     },
     "output_type": "display_data"
    }
   ],
   "source": [
    "plt.rcParams[\"figure.figsize\"] = (20,3)\n",
    "ax1 = df.plot(kind='scatter', x='index_1', y='variancia_1', color='r')    \n",
    "ax2 = df.plot(kind='scatter', x='index_1', y='variancia_2', color='g', ax=ax1)    \n",
    "ax3 = df.plot(kind='scatter', x='index_1', y='variancia_3', color='b', ax=ax1)\n",
    "ax4 = df.plot(kind='scatter', x='index_1', y='variancia_4', color='c', ax=ax1)\n",
    "ax5 = df.plot(kind='scatter', x='index_1', y='variancia_5', color='y', ax=ax1)\n",
    "ax3.set_ylabel(\"Número de interacoes\")\n",
    "ax3.set_xlabel(\"Variancia\")"
   ]
  },
  {
   "cell_type": "code",
   "execution_count": null,
   "id": "32338a2b",
   "metadata": {},
   "outputs": [],
   "source": []
  }
 ],
 "metadata": {
  "kernelspec": {
   "display_name": "Python 3 (ipykernel)",
   "language": "python",
   "name": "python3"
  },
  "language_info": {
   "codemirror_mode": {
    "name": "ipython",
    "version": 3
   },
   "file_extension": ".py",
   "mimetype": "text/x-python",
   "name": "python",
   "nbconvert_exporter": "python",
   "pygments_lexer": "ipython3",
   "version": "3.10.12"
  }
 },
 "nbformat": 4,
 "nbformat_minor": 5
}
