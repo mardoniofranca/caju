{
 "cells": [
  {
   "cell_type": "code",
   "execution_count": 1,
   "id": "049f3ec0",
   "metadata": {},
   "outputs": [],
   "source": [
    "import numpy as np"
   ]
  },
  {
   "cell_type": "code",
   "execution_count": 6,
   "id": "bad24e27",
   "metadata": {},
   "outputs": [],
   "source": [
    "import math"
   ]
  },
  {
   "cell_type": "code",
   "execution_count": 5,
   "id": "775f28ce",
   "metadata": {},
   "outputs": [],
   "source": [
    "def random_walk(n_steps):\n",
    "    # Initialize variables\n",
    "    x = 0\n",
    "    y = 0\n",
    "    positions = [(x, y)]\n",
    "\n",
    "    # Perform random walk\n",
    "    for _ in range(n_steps):\n",
    "        # Generate random step\n",
    "        step_x = np.random.choice([-1, 1])\n",
    "        step_y = np.random.choice([-1, 1])\n",
    "\n",
    "        # Update position\n",
    "        x += step_x\n",
    "        y += step_y\n",
    "\n",
    "        # Store position\n",
    "        positions.append((x, y))\n",
    "\n",
    "    return positions"
   ]
  },
  {
   "cell_type": "code",
   "execution_count": 4,
   "id": "7166fa26",
   "metadata": {},
   "outputs": [
    {
     "name": "stdout",
     "output_type": "stream",
     "text": [
      "Variance: [ 497.69915539 3616.37208738]\n",
      "Spatial Distance: 95.26804291051643\n"
     ]
    }
   ],
   "source": [
    "# Define the number of steps in the random walk\n",
    "n_steps = 10000\n",
    "\n",
    "# Perform the random walk\n",
    "positions = random_walk(n_steps)\n",
    "\n",
    "# Calculate the variance of the walk\n",
    "variance = np.var(positions, axis=0)\n",
    "\n",
    "# Calculate the spatial distance from the starting point\n",
    "distance = np.linalg.norm(positions[-1])\n",
    "\n",
    "# Print the results\n",
    "print(\"Variance:\", variance)\n",
    "print(\"Spatial Distance:\", distance)"
   ]
  },
  {
   "cell_type": "code",
   "execution_count": null,
   "id": "2eef4f43",
   "metadata": {},
   "outputs": [],
   "source": []
  }
 ],
 "metadata": {
  "kernelspec": {
   "display_name": "Python 3 (ipykernel)",
   "language": "python",
   "name": "python3"
  },
  "language_info": {
   "codemirror_mode": {
    "name": "ipython",
    "version": 3
   },
   "file_extension": ".py",
   "mimetype": "text/x-python",
   "name": "python",
   "nbconvert_exporter": "python",
   "pygments_lexer": "ipython3",
   "version": "3.9.12"
  }
 },
 "nbformat": 4,
 "nbformat_minor": 5
}
